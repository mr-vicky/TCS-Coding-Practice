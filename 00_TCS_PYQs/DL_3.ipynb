{
  "cells": [
    {
      "cell_type": "code",
      "execution_count": 11,
      "metadata": {
        "id": "VmcxXdTsEnhV"
      },
      "outputs": [],
      "source": [
        "from tensorflow.keras.datasets import imdb"
      ]
    },
    {
      "cell_type": "code",
      "execution_count": 3,
      "metadata": {
        "colab": {
          "base_uri": "https://localhost:8080/"
        },
        "id": "R9Ukc0H-FbO2",
        "outputId": "732e329b-bca1-495c-d3a9-8f139ba60c68"
      },
      "outputs": [
        {
          "name": "stdout",
          "output_type": "stream",
          "text": [
            "Downloading data from https://storage.googleapis.com/tensorflow/tf-keras-datasets/imdb.npz\n",
            "17464789/17464789 [==============================] - 4s 0us/step\n"
          ]
        }
      ],
      "source": [
        "(train_data, train_label), (test_data, test_label) = imdb.load_data(num_words = 10000)"
      ]
    },
    {
      "cell_type": "code",
      "execution_count": 4,
      "metadata": {
        "id": "97hC2aq_FiDm"
      },
      "outputs": [],
      "source": [
        "import numpy as np\n",
        "\n",
        "def vectorize_sequences(sequences, dimensions = 10000):\n",
        "  results = np.zeros((len(sequences), dimensions))\n",
        "  for i,sequences in enumerate(sequences):\n",
        "    results[i, sequences] = 1\n",
        "  return results\n",
        "\n",
        "x_train = vectorize_sequences(train_data)\n",
        "y_train = vectorize_sequences(test_data)"
      ]
    },
    {
      "cell_type": "code",
      "execution_count": 5,
      "metadata": {
        "id": "Ei1TE8_iFkRS"
      },
      "outputs": [],
      "source": [
        "y_train = np.asarray(train_label).astype('float32')\n",
        "y_test = np.asarray(test_label).astype('float32')"
      ]
    },
    {
      "cell_type": "code",
      "execution_count": 6,
      "metadata": {
        "id": "K0UnkKP1FpSC"
      },
      "outputs": [],
      "source": [
        "from tensorflow.keras.models import Sequential\n",
        "from tensorflow.keras.layers import Dense"
      ]
    },
    {
      "cell_type": "code",
      "execution_count": 7,
      "metadata": {
        "id": "l3TVVe_ZFsvN"
      },
      "outputs": [],
      "source": [
        "model = Sequential()\n",
        "model.add(Dense(16, input_shape=(10000, ), activation = \"relu\"))\n",
        "model.add(Dense(16, activation = \"relu\"))\n",
        "model.add(Dense(1, activation = \"sigmoid\"))"
      ]
    },
    {
      "cell_type": "code",
      "execution_count": 8,
      "metadata": {
        "id": "AcSIniWcFw6k"
      },
      "outputs": [],
      "source": [
        "model.compile(optimizer='adam', loss = 'mse', metrics = ['accuracy'])"
      ]
    },
    {
      "cell_type": "code",
      "execution_count": 9,
      "metadata": {
        "colab": {
          "base_uri": "https://localhost:8080/"
        },
        "id": "KoZs34cVF1VD",
        "outputId": "5783909d-1f22-476f-faf0-15e6e382a606"
      },
      "outputs": [
        {
          "name": "stdout",
          "output_type": "stream",
          "text": [
            "Model: \"sequential\"\n",
            "_________________________________________________________________\n",
            " Layer (type)                Output Shape              Param #   \n",
            "=================================================================\n",
            " dense (Dense)               (None, 16)                160016    \n",
            "                                                                 \n",
            " dense_1 (Dense)             (None, 16)                272       \n",
            "                                                                 \n",
            " dense_2 (Dense)             (None, 1)                 17        \n",
            "                                                                 \n",
            "=================================================================\n",
            "Total params: 160,305\n",
            "Trainable params: 160,305\n",
            "Non-trainable params: 0\n",
            "_________________________________________________________________\n"
          ]
        }
      ],
      "source": [
        "model.summary()"
      ]
    },
    {
      "cell_type": "code",
      "execution_count": 10,
      "metadata": {
        "colab": {
          "base_uri": "https://localhost:8080/"
        },
        "id": "99Ful3NpF6e9",
        "outputId": "2857c148-0210-4b97-9422-f033a48434df"
      },
      "outputs": [
        {
          "name": "stdout",
          "output_type": "stream",
          "text": [
            "Epoch 1/20\n",
            "35/35 [==============================] - 7s 146ms/step - loss: 0.1984 - accuracy: 0.7125 - val_loss: 0.1377 - val_accuracy: 0.8693\n",
            "Epoch 2/20\n",
            "35/35 [==============================] - 1s 19ms/step - loss: 0.0972 - accuracy: 0.9063 - val_loss: 0.0892 - val_accuracy: 0.8915\n",
            "Epoch 3/20\n",
            "35/35 [==============================] - 1s 19ms/step - loss: 0.0602 - accuracy: 0.9365 - val_loss: 0.0824 - val_accuracy: 0.8939\n",
            "Epoch 4/20\n",
            "35/35 [==============================] - 1s 18ms/step - loss: 0.0440 - accuracy: 0.9553 - val_loss: 0.0811 - val_accuracy: 0.8932\n",
            "Epoch 5/20\n",
            "35/35 [==============================] - 1s 17ms/step - loss: 0.0331 - accuracy: 0.9682 - val_loss: 0.0832 - val_accuracy: 0.8889\n",
            "Epoch 6/20\n",
            "35/35 [==============================] - 1s 18ms/step - loss: 0.0259 - accuracy: 0.9779 - val_loss: 0.0855 - val_accuracy: 0.8859\n",
            "Epoch 7/20\n",
            "35/35 [==============================] - 1s 17ms/step - loss: 0.0193 - accuracy: 0.9846 - val_loss: 0.0879 - val_accuracy: 0.8859\n",
            "Epoch 8/20\n",
            "35/35 [==============================] - 1s 17ms/step - loss: 0.0144 - accuracy: 0.9890 - val_loss: 0.0898 - val_accuracy: 0.8827\n",
            "Epoch 9/20\n",
            "35/35 [==============================] - 1s 17ms/step - loss: 0.0111 - accuracy: 0.9923 - val_loss: 0.0916 - val_accuracy: 0.8817\n",
            "Epoch 10/20\n",
            "35/35 [==============================] - 1s 18ms/step - loss: 0.0088 - accuracy: 0.9938 - val_loss: 0.0930 - val_accuracy: 0.8791\n",
            "Epoch 11/20\n",
            "35/35 [==============================] - 1s 18ms/step - loss: 0.0072 - accuracy: 0.9949 - val_loss: 0.0943 - val_accuracy: 0.8792\n",
            "Epoch 12/20\n",
            "35/35 [==============================] - 1s 21ms/step - loss: 0.0062 - accuracy: 0.9952 - val_loss: 0.0966 - val_accuracy: 0.8773\n",
            "Epoch 13/20\n",
            "35/35 [==============================] - 1s 26ms/step - loss: 0.0054 - accuracy: 0.9957 - val_loss: 0.0973 - val_accuracy: 0.8764\n",
            "Epoch 14/20\n",
            "35/35 [==============================] - 1s 18ms/step - loss: 0.0049 - accuracy: 0.9959 - val_loss: 0.0979 - val_accuracy: 0.8780\n",
            "Epoch 15/20\n",
            "35/35 [==============================] - 1s 19ms/step - loss: 0.0045 - accuracy: 0.9962 - val_loss: 0.0989 - val_accuracy: 0.8771\n",
            "Epoch 16/20\n",
            "35/35 [==============================] - 1s 19ms/step - loss: 0.0042 - accuracy: 0.9962 - val_loss: 0.0995 - val_accuracy: 0.8757\n",
            "Epoch 17/20\n",
            "35/35 [==============================] - 1s 20ms/step - loss: 0.0040 - accuracy: 0.9965 - val_loss: 0.1000 - val_accuracy: 0.8756\n",
            "Epoch 18/20\n",
            "35/35 [==============================] - 1s 18ms/step - loss: 0.0038 - accuracy: 0.9966 - val_loss: 0.1004 - val_accuracy: 0.8759\n",
            "Epoch 19/20\n",
            "35/35 [==============================] - 1s 17ms/step - loss: 0.0037 - accuracy: 0.9966 - val_loss: 0.1006 - val_accuracy: 0.8756\n",
            "Epoch 20/20\n",
            "35/35 [==============================] - 1s 18ms/step - loss: 0.0037 - accuracy: 0.9966 - val_loss: 0.1010 - val_accuracy: 0.8751\n"
          ]
        }
      ],
      "source": [
        "history = model.fit(x_train, y_train, validation_split = 0.3, epochs = 20, verbose = 1, batch_size = 512)"
      ]
    }
  ],
  "metadata": {
    "colab": {
      "provenance": []
    },
    "kernelspec": {
      "display_name": "Python 3",
      "name": "python3"
    },
    "language_info": {
      "codemirror_mode": {
        "name": "ipython",
        "version": 3
      },
      "file_extension": ".py",
      "mimetype": "text/x-python",
      "name": "python",
      "nbconvert_exporter": "python",
      "pygments_lexer": "ipython3",
      "version": "3.9.5"
    }
  },
  "nbformat": 4,
  "nbformat_minor": 0
}
